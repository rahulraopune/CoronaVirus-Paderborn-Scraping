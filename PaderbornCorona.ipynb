{
  "nbformat": 4,
  "nbformat_minor": 0,
  "metadata": {
    "colab": {
      "name": "PaderbornCorona.ipynb",
      "provenance": [],
      "authorship_tag": "ABX9TyNUrBl/qHOXnekgR5xnm2Pm"
    },
    "kernelspec": {
      "name": "python3",
      "display_name": "Python 3"
    }
  },
  "cells": [
    {
      "cell_type": "code",
      "metadata": {
        "id": "1MW_0ADdNXu8",
        "colab_type": "code",
        "colab": {}
      },
      "source": [
        "import pandas as pd\n",
        "from bs4 import BeautifulSoup\n",
        "import requests\n",
        "import re\n",
        "import pandas as pd"
      ],
      "execution_count": 0,
      "outputs": []
    },
    {
      "cell_type": "code",
      "metadata": {
        "id": "6_vFMwULUo1_",
        "colab_type": "code",
        "colab": {}
      },
      "source": [
        "def remove_spaces(str):\n",
        "    sentence = re.sub(\"^\\s+|\\s+$\", \"\", str, flags=re.UNICODE)\n",
        "    return sentence"
      ],
      "execution_count": 0,
      "outputs": []
    },
    {
      "cell_type": "code",
      "metadata": {
        "id": "wqAobyQkdyPd",
        "colab_type": "code",
        "colab": {}
      },
      "source": [
        "base_link = 'https://www.kreis-paderborn.de/'\n",
        "req = requests.get(base_link)\n",
        "soup = BeautifulSoup(req.content)\n",
        "div = soup.find_all('div',class_=\"listEntryTitle\")\n",
        "a = div[0].find('a',href = True)\n",
        "url = base_link + a['href']"
      ],
      "execution_count": 0,
      "outputs": []
    },
    {
      "cell_type": "code",
      "metadata": {
        "id": "Q7_EG5kLNpEC",
        "colab_type": "code",
        "outputId": "eb71a23b-e7ef-405b-fe64-5bc455dbfd88",
        "colab": {
          "base_uri": "https://localhost:8080/",
          "height": 54
        }
      },
      "source": [
        "base_link = url\n",
        "req = requests.get(base_link)\n",
        "soup = BeautifulSoup(req.content)\n",
        "ul = soup.find_all('ul')[-2]\n",
        "li = ul.find_all('li')\n",
        "\n",
        "places = []\n",
        "\n",
        "for i in li:\n",
        "    no_comma_colon = i.text.replace(\",\",\"\").replace(\":\",\"\").replace(\"und\",\"\")\n",
        "    no_space = no_comma_colon.strip()\n",
        "    split = no_space.rsplit(\" \",1)\n",
        "    places.append(split)\n",
        "\n",
        "print(places)"
      ],
      "execution_count": 4,
      "outputs": [
        {
          "output_type": "stream",
          "text": [
            "[['Altenbeken', '1'], ['Bad Lippspringe', '1'], ['Borchen', '2'], ['Büren', '4'], ['Delbrück', '22'], ['Bad Wünnenberg', '22'], ['Hövelhof', '11'], ['Lichtenau', '2'], ['Paderborn', '113'], ['Salzkotten', '13']]\n"
          ],
          "name": "stdout"
        }
      ]
    },
    {
      "cell_type": "code",
      "metadata": {
        "id": "fdWqwDdLvbuV",
        "colab_type": "code",
        "outputId": "2a2a8dbc-413d-4d2c-8569-58079f0f1d87",
        "colab": {
          "base_uri": "https://localhost:8080/",
          "height": 359
        }
      },
      "source": [
        "df = pd.DataFrame(places)\n",
        "df"
      ],
      "execution_count": 5,
      "outputs": [
        {
          "output_type": "execute_result",
          "data": {
            "text/html": [
              "<div>\n",
              "<style scoped>\n",
              "    .dataframe tbody tr th:only-of-type {\n",
              "        vertical-align: middle;\n",
              "    }\n",
              "\n",
              "    .dataframe tbody tr th {\n",
              "        vertical-align: top;\n",
              "    }\n",
              "\n",
              "    .dataframe thead th {\n",
              "        text-align: right;\n",
              "    }\n",
              "</style>\n",
              "<table border=\"1\" class=\"dataframe\">\n",
              "  <thead>\n",
              "    <tr style=\"text-align: right;\">\n",
              "      <th></th>\n",
              "      <th>0</th>\n",
              "      <th>1</th>\n",
              "    </tr>\n",
              "  </thead>\n",
              "  <tbody>\n",
              "    <tr>\n",
              "      <th>0</th>\n",
              "      <td>Altenbeken</td>\n",
              "      <td>1</td>\n",
              "    </tr>\n",
              "    <tr>\n",
              "      <th>1</th>\n",
              "      <td>Bad Lippspringe</td>\n",
              "      <td>1</td>\n",
              "    </tr>\n",
              "    <tr>\n",
              "      <th>2</th>\n",
              "      <td>Borchen</td>\n",
              "      <td>2</td>\n",
              "    </tr>\n",
              "    <tr>\n",
              "      <th>3</th>\n",
              "      <td>Büren</td>\n",
              "      <td>4</td>\n",
              "    </tr>\n",
              "    <tr>\n",
              "      <th>4</th>\n",
              "      <td>Delbrück</td>\n",
              "      <td>22</td>\n",
              "    </tr>\n",
              "    <tr>\n",
              "      <th>5</th>\n",
              "      <td>Bad Wünnenberg</td>\n",
              "      <td>22</td>\n",
              "    </tr>\n",
              "    <tr>\n",
              "      <th>6</th>\n",
              "      <td>Hövelhof</td>\n",
              "      <td>11</td>\n",
              "    </tr>\n",
              "    <tr>\n",
              "      <th>7</th>\n",
              "      <td>Lichtenau</td>\n",
              "      <td>2</td>\n",
              "    </tr>\n",
              "    <tr>\n",
              "      <th>8</th>\n",
              "      <td>Paderborn</td>\n",
              "      <td>113</td>\n",
              "    </tr>\n",
              "    <tr>\n",
              "      <th>9</th>\n",
              "      <td>Salzkotten</td>\n",
              "      <td>13</td>\n",
              "    </tr>\n",
              "  </tbody>\n",
              "</table>\n",
              "</div>"
            ],
            "text/plain": [
              "                 0    1\n",
              "0       Altenbeken    1\n",
              "1  Bad Lippspringe    1\n",
              "2          Borchen    2\n",
              "3            Büren    4\n",
              "4         Delbrück   22\n",
              "5   Bad Wünnenberg   22\n",
              "6         Hövelhof   11\n",
              "7        Lichtenau    2\n",
              "8        Paderborn  113\n",
              "9       Salzkotten   13"
            ]
          },
          "metadata": {
            "tags": []
          },
          "execution_count": 5
        }
      ]
    },
    {
      "cell_type": "code",
      "metadata": {
        "id": "b2zyLBWuvqBu",
        "colab_type": "code",
        "colab": {}
      },
      "source": [
        "lat = {'Altenbeken':51.76455,\n",
        "       'Bad Lippspringe':51.777419,\n",
        "       'Borchen':51.6512014,\n",
        "       'Büren':51.5488709,\n",
        "       'Delbrück':51.7738598,\n",
        "       'Bad Wünnenberg':51.531326,\n",
        "       'Hövelhof':51.835323,\n",
        "       'Lichtenau':51.6148901,\n",
        "       'Paderborn':51.7275231,\n",
        "       'Salzkotten':51.6673279}\n",
        "\n",
        "long = {'Altenbeken':8.924201,\n",
        "       'Bad Lippspringe':8.8441963,\n",
        "       'Borchen':8.694057,\n",
        "       'Büren':8.453094,\n",
        "       'Delbrück':8.4017685,\n",
        "       'Bad Wünnenberg':8.5956437,\n",
        "       'Hövelhof':8.5981495,\n",
        "       'Lichtenau':8.7375106,\n",
        "       'Paderborn':8.6283488,\n",
        "       'Salzkotten':8.526839}"
      ],
      "execution_count": 0,
      "outputs": []
    },
    {
      "cell_type": "code",
      "metadata": {
        "id": "GOUQ26knyod6",
        "colab_type": "code",
        "outputId": "ac809663-8ebb-4264-c3ab-375b00e8054d",
        "colab": {
          "base_uri": "https://localhost:8080/",
          "height": 359
        }
      },
      "source": [
        "df[\"Latitude\"] = df[0].map(lat)\n",
        "df[\"Longitude\"] = df[0].map(long)\n",
        "df.columns = [\"Name\",\"Count\",\"Latitude\",\"Longitude\"]\n",
        "df.to_csv(\"pb.csv\", encoding='utf8')\n",
        "df"
      ],
      "execution_count": 7,
      "outputs": [
        {
          "output_type": "execute_result",
          "data": {
            "text/html": [
              "<div>\n",
              "<style scoped>\n",
              "    .dataframe tbody tr th:only-of-type {\n",
              "        vertical-align: middle;\n",
              "    }\n",
              "\n",
              "    .dataframe tbody tr th {\n",
              "        vertical-align: top;\n",
              "    }\n",
              "\n",
              "    .dataframe thead th {\n",
              "        text-align: right;\n",
              "    }\n",
              "</style>\n",
              "<table border=\"1\" class=\"dataframe\">\n",
              "  <thead>\n",
              "    <tr style=\"text-align: right;\">\n",
              "      <th></th>\n",
              "      <th>Name</th>\n",
              "      <th>Count</th>\n",
              "      <th>Latitude</th>\n",
              "      <th>Longitude</th>\n",
              "    </tr>\n",
              "  </thead>\n",
              "  <tbody>\n",
              "    <tr>\n",
              "      <th>0</th>\n",
              "      <td>Altenbeken</td>\n",
              "      <td>1</td>\n",
              "      <td>51.764550</td>\n",
              "      <td>8.924201</td>\n",
              "    </tr>\n",
              "    <tr>\n",
              "      <th>1</th>\n",
              "      <td>Bad Lippspringe</td>\n",
              "      <td>1</td>\n",
              "      <td>51.777419</td>\n",
              "      <td>8.844196</td>\n",
              "    </tr>\n",
              "    <tr>\n",
              "      <th>2</th>\n",
              "      <td>Borchen</td>\n",
              "      <td>2</td>\n",
              "      <td>51.651201</td>\n",
              "      <td>8.694057</td>\n",
              "    </tr>\n",
              "    <tr>\n",
              "      <th>3</th>\n",
              "      <td>Büren</td>\n",
              "      <td>4</td>\n",
              "      <td>51.548871</td>\n",
              "      <td>8.453094</td>\n",
              "    </tr>\n",
              "    <tr>\n",
              "      <th>4</th>\n",
              "      <td>Delbrück</td>\n",
              "      <td>22</td>\n",
              "      <td>51.773860</td>\n",
              "      <td>8.401768</td>\n",
              "    </tr>\n",
              "    <tr>\n",
              "      <th>5</th>\n",
              "      <td>Bad Wünnenberg</td>\n",
              "      <td>22</td>\n",
              "      <td>51.531326</td>\n",
              "      <td>8.595644</td>\n",
              "    </tr>\n",
              "    <tr>\n",
              "      <th>6</th>\n",
              "      <td>Hövelhof</td>\n",
              "      <td>11</td>\n",
              "      <td>51.835323</td>\n",
              "      <td>8.598149</td>\n",
              "    </tr>\n",
              "    <tr>\n",
              "      <th>7</th>\n",
              "      <td>Lichtenau</td>\n",
              "      <td>2</td>\n",
              "      <td>51.614890</td>\n",
              "      <td>8.737511</td>\n",
              "    </tr>\n",
              "    <tr>\n",
              "      <th>8</th>\n",
              "      <td>Paderborn</td>\n",
              "      <td>113</td>\n",
              "      <td>51.727523</td>\n",
              "      <td>8.628349</td>\n",
              "    </tr>\n",
              "    <tr>\n",
              "      <th>9</th>\n",
              "      <td>Salzkotten</td>\n",
              "      <td>13</td>\n",
              "      <td>51.667328</td>\n",
              "      <td>8.526839</td>\n",
              "    </tr>\n",
              "  </tbody>\n",
              "</table>\n",
              "</div>"
            ],
            "text/plain": [
              "              Name Count   Latitude  Longitude\n",
              "0       Altenbeken     1  51.764550   8.924201\n",
              "1  Bad Lippspringe     1  51.777419   8.844196\n",
              "2          Borchen     2  51.651201   8.694057\n",
              "3            Büren     4  51.548871   8.453094\n",
              "4         Delbrück    22  51.773860   8.401768\n",
              "5   Bad Wünnenberg    22  51.531326   8.595644\n",
              "6         Hövelhof    11  51.835323   8.598149\n",
              "7        Lichtenau     2  51.614890   8.737511\n",
              "8        Paderborn   113  51.727523   8.628349\n",
              "9       Salzkotten    13  51.667328   8.526839"
            ]
          },
          "metadata": {
            "tags": []
          },
          "execution_count": 7
        }
      ]
    },
    {
      "cell_type": "code",
      "metadata": {
        "id": "fW4EffTf4IQ3",
        "colab_type": "code",
        "colab": {}
      },
      "source": [
        "from google.colab import files\n",
        "files.download('pb.csv') "
      ],
      "execution_count": 0,
      "outputs": []
    }
  ]
}